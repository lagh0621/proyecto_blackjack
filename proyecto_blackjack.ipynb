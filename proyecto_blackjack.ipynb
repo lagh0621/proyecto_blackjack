{
 "cells": [
  {
   "cell_type": "markdown",
   "metadata": {},
   "source": [
    "## Simulación Monte Carlo para Blackjack"
   ]
  },
  {
   "cell_type": "markdown",
   "metadata": {},
   "source": [
    "- Banco de Guatemala\n",
    "- Programa de Estudios Superiores -PES- \n",
    "- 2022\n",
    "- Luis González\n",
    "- Javier Monroy"
   ]
  },
  {
   "cell_type": "code",
   "execution_count": 1,
   "metadata": {},
   "outputs": [],
   "source": [
    "import numpy as np"
   ]
  },
  {
   "cell_type": "markdown",
   "metadata": {},
   "source": [
    "Creamos el deck, lo barajeamos y creamos el shoe para el juego"
   ]
  },
  {
   "cell_type": "code",
   "execution_count": 2,
   "metadata": {},
   "outputs": [
    {
     "name": "stdout",
     "output_type": "stream",
     "text": [
      "El deck es: [ 1  1  1  1  2  2  2  2  3  3  3  3  4  4  4  4  5  5  5  5  6  6  6  6\n",
      "  7  7  7  7  8  8  8  8  9  9  9  9 10 10 10 10 10 10 10 10 10 10 10 10\n",
      " 10 10 10 10]\n",
      "El shoe es: [ 4 10  2  1 10  5  3  8  5 10  2  4 10 10  2  9  1  9  7  6  6  7 10  7\n",
      "  1  5 10  6  6  8  1 10  4 10  3 10  9 10 10  8  4  9  2 10  3 10 10 10\n",
      "  7  5  3  8]\n",
      "<class 'numpy.ndarray'>\n"
     ]
    }
   ],
   "source": [
    "#Creamos todas las cartas y su valor en el juego\n",
    "shoe=np.array([1,1,1,1])\n",
    "two = np.array([2,2,2,2])\n",
    "three = np.array([3,3,3,3])\n",
    "four = np.array([4,4,4,4])\n",
    "five = np.array([5,5,5,5])\n",
    "six = np.array([6,6,6,6])\n",
    "seven = np.array([7,7,7,7])\n",
    "eight = np.array([8,8,8,8])\n",
    "nine = np.array([9,9,9,9])\n",
    "ten = np.array([10,10,10,10])\n",
    "j = np.array([10,10,10,10])\n",
    "q = np.array([10,10,10,10])\n",
    "k = np.array([10,10,10,10])\n",
    "\n",
    "\n",
    "\n",
    "\n",
    "#Lista que solo sirve para iterarla y formar el deck\n",
    "total_faces=(two, three, four, five, six, seven, eight, nine, ten, j, q, k)\n",
    "\n",
    "#Formamos el deck ordenado\n",
    "for i in total_faces:\n",
    "    shoe = np.hstack((shoe,i))\n",
    "\n",
    "print(f\"El deck es: {shoe}\")\n",
    "#Barajeamos el deck para para convertirlo en shoe\n",
    "np.random.shuffle(shoe)\n",
    "\n",
    "print(f\"El shoe es: {shoe}\")\n",
    "\n",
    "print(type(shoe))\n"
   ]
  },
  {
   "cell_type": "markdown",
   "metadata": {},
   "source": [
    "Ya con el shoe en la mesa, repartimos las cartas"
   ]
  },
  {
   "cell_type": "code",
   "execution_count": 3,
   "metadata": {},
   "outputs": [
    {
     "name": "stdout",
     "output_type": "stream",
     "text": [
      "4\n",
      "10\n",
      "2\n",
      "1\n",
      "10\n",
      "5\n",
      "3\n",
      "8\n",
      "5\n",
      "10\n",
      "2\n",
      "4\n",
      "10\n",
      "10\n",
      "2\n",
      "9\n",
      "1\n",
      "9\n",
      "7\n",
      "6\n",
      "6\n",
      "7\n",
      "10\n",
      "7\n",
      "1\n",
      "5\n",
      "10\n",
      "6\n",
      "6\n",
      "8\n",
      "1\n",
      "10\n",
      "4\n",
      "10\n",
      "3\n",
      "10\n",
      "9\n",
      "10\n",
      "10\n",
      "8\n",
      "4\n",
      "9\n",
      "2\n",
      "10\n",
      "3\n",
      "10\n",
      "10\n",
      "10\n",
      "7\n",
      "5\n",
      "3\n",
      "8\n"
     ]
    }
   ],
   "source": [
    "#Mientras que el shoe no este vacío, entonces que se repartan las cartas\n",
    "\n",
    "player_hand=np.array([0])\n",
    "dealer_hand=np.array([])\n",
    "\n",
    "for i in shoe:\n",
    "    print(i)\n",
    "\n"
   ]
  },
  {
   "cell_type": "code",
   "execution_count": 4,
   "metadata": {},
   "outputs": [
    {
     "data": {
      "text/plain": [
       "True"
      ]
     },
     "execution_count": 4,
     "metadata": {},
     "output_type": "execute_result"
    }
   ],
   "source": [
    "def blackjack_game(decks:int, players=1):    \n",
    "\n",
    "    shoe=np.full(decks*4,1)\n",
    "    two=np.full(decks*4,2)\n",
    "    three=np.full(decks*4,3)\n",
    "    four=np.full(decks*4,4)\n",
    "    five=np.full(decks*4,5)\n",
    "    six=np.full(decks*4,6)\n",
    "    seven=np.full(decks*4,7)\n",
    "    eight=np.full(decks*4,8)\n",
    "    nine=np.full(decks*4,9)\n",
    "    ten=np.full(decks*4,10)\n",
    "    j=np.full(decks*4,10)\n",
    "    q=np.full(decks*4,10)\n",
    "    k=np.full(decks*4,10)\n",
    "    total_faces=(two, three, four, five, six, seven, eight, nine, ten, j, q, k)\n",
    "    for i in total_faces:\n",
    "        shoe = np.hstack((shoe,i))\n",
    "    np.random.shuffle(shoe)\n",
    "    #Manos iniciales\n",
    "    while (shoe.size>10):\n",
    "        player_hand=np.full(1,0)\n",
    "        dealer_hand=np.full(1,0)\n",
    "        card = int(np.random.choice(shoe,1))\n",
    "        \n",
    "    else:\n",
    "        print(\"¡Se acabó el shoe!\")\n",
    "    return True\n",
    "\n",
    "blackjack_game(1)\n"
   ]
  },
  {
   "cell_type": "code",
   "execution_count": 68,
   "metadata": {},
   "outputs": [
    {
     "data": {
      "text/plain": [
       "array([8, 8, 8, 8, 8])"
      ]
     },
     "execution_count": 68,
     "metadata": {},
     "output_type": "execute_result"
    }
   ],
   "source": [
    "\n",
    "an_array = np.full(5, 8)\n",
    "an_array\n",
    "#an_array.ndim"
   ]
  },
  {
   "cell_type": "code",
   "execution_count": 67,
   "metadata": {},
   "outputs": [
    {
     "data": {
      "text/plain": [
       "4"
      ]
     },
     "execution_count": 67,
     "metadata": {},
     "output_type": "execute_result"
    }
   ],
   "source": [
    "int(np.random.choice(5, 1))\n",
    "\n"
   ]
  }
 ],
 "metadata": {
  "interpreter": {
   "hash": "99faa8a48c35242c76b9564dcbd1a07495d855439a18272cfcfa26f869e9b7cc"
  },
  "kernelspec": {
   "display_name": "Python 3.9.7 64-bit ('base': conda)",
   "language": "python",
   "name": "python3"
  },
  "language_info": {
   "codemirror_mode": {
    "name": "ipython",
    "version": 3
   },
   "file_extension": ".py",
   "mimetype": "text/x-python",
   "name": "python",
   "nbconvert_exporter": "python",
   "pygments_lexer": "ipython3",
   "version": "3.9.7"
  },
  "orig_nbformat": 4
 },
 "nbformat": 4,
 "nbformat_minor": 2
}
